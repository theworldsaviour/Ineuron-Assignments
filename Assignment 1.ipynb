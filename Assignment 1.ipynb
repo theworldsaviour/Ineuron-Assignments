{
 "cells": [
  {
   "cell_type": "code",
   "execution_count": 27,
   "id": "bbb48e42",
   "metadata": {},
   "outputs": [],
   "source": [
    "#1. In the below elements which of them are values or an expression? eg:- values can be integer or string and expressions will be mathematical operators\n",
    "\n",
    "#Mathematical Operators - \"*\", \"-\", \"/\" and \"+\" \n",
    "#Values - 'Hello', -87.8, 6"
   ]
  },
  {
   "cell_type": "code",
   "execution_count": 28,
   "id": "476f4d30",
   "metadata": {},
   "outputs": [],
   "source": [
    "#2. What is the difference between string and variable?\n",
    "\n",
    "#String- A text type data - Single letter, word or sentence - it is One of the variable type\n",
    "#Variable - Entity for storing data and is required to process in runtime"
   ]
  },
  {
   "cell_type": "code",
   "execution_count": 30,
   "id": "36d3899a",
   "metadata": {},
   "outputs": [],
   "source": [
    "#3. Describe three different data types\n",
    "\n",
    "#Different data types that can be stored in the variable\n",
    "#Integer(Int)\n",
    "#Float\n",
    "#String(Str)\n",
    "#Boolean(Bool)"
   ]
  },
  {
   "cell_type": "code",
   "execution_count": 31,
   "id": "2546f885",
   "metadata": {},
   "outputs": [],
   "source": [
    "#4. What is an expression made up of? What do all expressions do?\n",
    "\n",
    "#Expressions are operators or operands to produce or return some value(s). It is a combination of variables, operations & values that will result in a value\n",
    "\n",
    "#c=[a+b]-d; Here [], + & - will be expressions & a,b,d are variables - They will return a final variable as c\n",
    "\n",
    "#Other Expressions also include Boolean, Logical or parenthesis etc. "
   ]
  },
  {
   "cell_type": "code",
   "execution_count": 33,
   "id": "92e13136",
   "metadata": {},
   "outputs": [],
   "source": [
    "#5. This assignment statements, like spam = 10. What is the difference between an expression and a statement?\n",
    "\n",
    "#Expression makes use of Operators & variables to return a final value or variable\n",
    "#Statement is simply an action or command that is executable\n",
    "spam = 10"
   ]
  },
  {
   "cell_type": "code",
   "execution_count": 26,
   "id": "bd83e879",
   "metadata": {},
   "outputs": [
    {
     "name": "stdout",
     "output_type": "stream",
     "text": [
      "10\n"
     ]
    }
   ],
   "source": [
    "spam=10\n",
    "print(spam)\n",
    "#print is statement & 10 is expression"
   ]
  },
  {
   "cell_type": "code",
   "execution_count": 34,
   "id": "2f9b8d5c",
   "metadata": {},
   "outputs": [
    {
     "data": {
      "text/plain": [
       "23"
      ]
     },
     "execution_count": 34,
     "metadata": {},
     "output_type": "execute_result"
    }
   ],
   "source": [
    "#6. After running the following code, what does the variable bacon contain?\n",
    "bacon = 22\n",
    "bacon + 1"
   ]
  },
  {
   "cell_type": "code",
   "execution_count": 11,
   "id": "bf86ef8f",
   "metadata": {},
   "outputs": [
    {
     "data": {
      "text/plain": [
       "22"
      ]
     },
     "execution_count": 11,
     "metadata": {},
     "output_type": "execute_result"
    }
   ],
   "source": [
    "#Bacon is an integer\n",
    "bacon"
   ]
  },
  {
   "cell_type": "code",
   "execution_count": null,
   "id": "5e7f4297",
   "metadata": {},
   "outputs": [],
   "source": [
    "#7. What should the values of the following two terms be?\n",
    "#'spam' + 'spamspam'\n",
    "#'spam' * 3"
   ]
  },
  {
   "cell_type": "code",
   "execution_count": 3,
   "id": "c6f4d555",
   "metadata": {},
   "outputs": [
    {
     "data": {
      "text/plain": [
       "'spamspamspam'"
      ]
     },
     "execution_count": 3,
     "metadata": {},
     "output_type": "execute_result"
    }
   ],
   "source": [
    "a='spam'+'spamspam'\n",
    "a"
   ]
  },
  {
   "cell_type": "code",
   "execution_count": 4,
   "id": "06da7cce",
   "metadata": {},
   "outputs": [
    {
     "data": {
      "text/plain": [
       "'spamspamspam'"
      ]
     },
     "execution_count": 4,
     "metadata": {},
     "output_type": "execute_result"
    }
   ],
   "source": [
    "b='spam'*3\n",
    "b"
   ]
  },
  {
   "cell_type": "code",
   "execution_count": 36,
   "id": "86559a93",
   "metadata": {},
   "outputs": [],
   "source": [
    "#8. Why is eggs a valid variable name while 100 is invalid?\n",
    "\n",
    "#Eggs can take any value and can be assigned to integer, string, boolean or float, \n",
    "#100 is an constant and hence cannot hold any values hence it is invalid as a Varaible"
   ]
  },
  {
   "cell_type": "code",
   "execution_count": 37,
   "id": "6c076939",
   "metadata": {},
   "outputs": [
    {
     "data": {
      "text/plain": [
       "786"
      ]
     },
     "execution_count": 37,
     "metadata": {},
     "output_type": "execute_result"
    }
   ],
   "source": [
    "#9. What three functions can be used to get the integer, floating-point number, or string version of a value?\n",
    "\n",
    "a=786.58\n",
    "#INTEGER FUNCTION\n",
    "int(a)"
   ]
  },
  {
   "cell_type": "code",
   "execution_count": 38,
   "id": "0d29967c",
   "metadata": {},
   "outputs": [
    {
     "data": {
      "text/plain": [
       "'786.58'"
      ]
     },
     "execution_count": 38,
     "metadata": {},
     "output_type": "execute_result"
    }
   ],
   "source": [
    "#String Function\n",
    "str(a)"
   ]
  },
  {
   "cell_type": "code",
   "execution_count": 39,
   "id": "2fd9e710",
   "metadata": {},
   "outputs": [
    {
     "data": {
      "text/plain": [
       "786.58"
      ]
     },
     "execution_count": 39,
     "metadata": {},
     "output_type": "execute_result"
    }
   ],
   "source": [
    "#floating-point number\n",
    "float(a)"
   ]
  },
  {
   "cell_type": "code",
   "execution_count": 40,
   "id": "b25a60b8",
   "metadata": {},
   "outputs": [],
   "source": [
    "#Q10. Why does this expression cause an error? How can you fix it?\n",
    "#'I have eaten ' + 99 + ' burritos.'"
   ]
  },
  {
   "cell_type": "code",
   "execution_count": 41,
   "id": "54166298",
   "metadata": {},
   "outputs": [
    {
     "data": {
      "text/plain": [
       "'I have eaten 99 burritos.'"
      ]
     },
     "execution_count": 41,
     "metadata": {},
     "output_type": "execute_result"
    }
   ],
   "source": [
    "#Assign 99 as a string\n",
    "Sol2 = 'I have eaten '+'99'+' burritos.'\n",
    "Sol2"
   ]
  },
  {
   "cell_type": "code",
   "execution_count": 42,
   "id": "67d6c776",
   "metadata": {},
   "outputs": [
    {
     "data": {
      "text/plain": [
       "\"'I have eaten '+99+' burritos.'\""
      ]
     },
     "execution_count": 42,
     "metadata": {},
     "output_type": "execute_result"
    }
   ],
   "source": [
    "#Multiple quotations hence confusion in reading End lines [can only concatenate str (not \"int\") to str]. Can be rectified by making using of triple Quotations\n",
    "Sol1 = \"\"\"'I have eaten '+99+' burritos.'\"\"\"\n",
    "Sol1"
   ]
  }
 ],
 "metadata": {
  "kernelspec": {
   "display_name": "Python 3 (ipykernel)",
   "language": "python",
   "name": "python3"
  },
  "language_info": {
   "codemirror_mode": {
    "name": "ipython",
    "version": 3
   },
   "file_extension": ".py",
   "mimetype": "text/x-python",
   "name": "python",
   "nbconvert_exporter": "python",
   "pygments_lexer": "ipython3",
   "version": "3.9.12"
  }
 },
 "nbformat": 4,
 "nbformat_minor": 5
}
