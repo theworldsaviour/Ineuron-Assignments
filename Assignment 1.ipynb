{
 "cells": [
  {
   "cell_type": "raw",
   "id": "6b3e821d",
   "metadata": {},
   "source": [
    "1. In the below elements which of them are values or an expression? eg:- values can be integer or string and expressions will be mathematical operators\n",
    "\n",
    "Mathematical Operators - \"*\", \"-\", \"/\" and \"+\" \n",
    "Values - 'Hello', -87.8, 6"
   ]
  },
  {
   "cell_type": "raw",
   "id": "91d4f11d",
   "metadata": {},
   "source": [
    "2. What is the difference between string and variable?\n",
    "\n",
    "String- A text type data - Single letter, word or sentence - it is One of the variable type\n",
    "Variable - Entity for storing data and is required to process in runtime"
   ]
  },
  {
   "cell_type": "raw",
   "id": "1584386b",
   "metadata": {},
   "source": [
    "3. Describe three different data types\n",
    "\n",
    "Different data types that can be stored in the variable\n",
    "Integer(Int)\n",
    "Float\n",
    "String(Str)\n",
    "Boolean(Bool)"
   ]
  },
  {
   "cell_type": "raw",
   "id": "a065c615",
   "metadata": {},
   "source": [
    "4. What is an expression made up of? What do all expressions do?\n",
    "\n",
    "Expressions are operators or operands to produce or return some value(s). It is a combination of variables, operations & values that will result in a value\n",
    "\n",
    "c=[a+b]-d; Here [], + & - will be expressions & a,b,d are variables - They will return a final variable as c\n",
    "\n",
    "Other Expressions also include Boolean, Logical or parenthesis etc. "
   ]
  },
  {
   "cell_type": "raw",
   "id": "0fa96b7b",
   "metadata": {},
   "source": [
    "5. This assignment statements, like spam = 10. What is the difference between an expression and a statement?\n",
    "\n",
    "Expression makes use of Operators & variables to return a final value or variable\n",
    "Statement is simply an action or command that is executable\n",
    "Spam = 10"
   ]
  },
  {
   "cell_type": "code",
   "execution_count": 26,
   "id": "ddf9ed93",
   "metadata": {},
   "outputs": [
    {
     "name": "stdout",
     "output_type": "stream",
     "text": [
      "10\n"
     ]
    }
   ],
   "source": [
    "spam=10\n",
    "print(spam)\n",
    "#print is statement & 10 is expression"
   ]
  },
  {
   "cell_type": "raw",
   "id": "4f7695b6",
   "metadata": {},
   "source": [
    "6. After running the following code, what does the variable bacon contain?\n",
    "bacon = 22\n",
    "bacon + 1"
   ]
  },
  {
   "cell_type": "code",
   "execution_count": 1,
   "id": "a873ab2c",
   "metadata": {},
   "outputs": [
    {
     "data": {
      "text/plain": [
       "23"
      ]
     },
     "execution_count": 1,
     "metadata": {},
     "output_type": "execute_result"
    }
   ],
   "source": [
    "bacon = 22\n",
    "bacon+1"
   ]
  },
  {
   "cell_type": "code",
   "execution_count": 11,
   "id": "bf86ef8f",
   "metadata": {},
   "outputs": [
    {
     "data": {
      "text/plain": [
       "22"
      ]
     },
     "execution_count": 11,
     "metadata": {},
     "output_type": "execute_result"
    }
   ],
   "source": [
    "#Bacon is an integer\n",
    "bacon"
   ]
  },
  {
   "cell_type": "raw",
   "id": "3c85667d",
   "metadata": {},
   "source": [
    "7. What should the values of the following two terms be?\n",
    "'spam' + 'spamspam'\n",
    "'spam' * 3"
   ]
  },
  {
   "cell_type": "code",
   "execution_count": 3,
   "id": "c6f4d555",
   "metadata": {},
   "outputs": [
    {
     "data": {
      "text/plain": [
       "'spamspamspam'"
      ]
     },
     "execution_count": 3,
     "metadata": {},
     "output_type": "execute_result"
    }
   ],
   "source": [
    "a='spam'+'spamspam'\n",
    "a"
   ]
  },
  {
   "cell_type": "code",
   "execution_count": 4,
   "id": "06da7cce",
   "metadata": {},
   "outputs": [
    {
     "data": {
      "text/plain": [
       "'spamspamspam'"
      ]
     },
     "execution_count": 4,
     "metadata": {},
     "output_type": "execute_result"
    }
   ],
   "source": [
    "b='spam'*3\n",
    "b"
   ]
  },
  {
   "cell_type": "raw",
   "id": "dde14fc1",
   "metadata": {},
   "source": [
    "8. Why is eggs a valid variable name while 100 is invalid?\n",
    "\n",
    "#Eggs can take any value and can be assigned to integer, string, boolean or float, \n",
    "#100 is an constant and hence cannot hold any values hence it is invalid as a Varaible"
   ]
  },
  {
   "cell_type": "code",
   "execution_count": 12,
   "id": "922fd0dc",
   "metadata": {},
   "outputs": [
    {
     "data": {
      "text/plain": [
       "786"
      ]
     },
     "execution_count": 12,
     "metadata": {},
     "output_type": "execute_result"
    }
   ],
   "source": [
    "#9. What three functions can be used to get the integer, floating-point number, or string version of a value?\n",
    "\n",
    "a=786.58\n",
    "#INTEGER FUNCTION\n",
    "int(a)"
   ]
  },
  {
   "cell_type": "code",
   "execution_count": 14,
   "id": "7c30fa3d",
   "metadata": {},
   "outputs": [
    {
     "data": {
      "text/plain": [
       "'786.58'"
      ]
     },
     "execution_count": 14,
     "metadata": {},
     "output_type": "execute_result"
    }
   ],
   "source": [
    "#String Function\n",
    "str(a)"
   ]
  },
  {
   "cell_type": "code",
   "execution_count": 16,
   "id": "42ae65b8",
   "metadata": {},
   "outputs": [
    {
     "data": {
      "text/plain": [
       "786.58"
      ]
     },
     "execution_count": 16,
     "metadata": {},
     "output_type": "execute_result"
    }
   ],
   "source": [
    "#floating-point number\n",
    "float(a)"
   ]
  },
  {
   "cell_type": "raw",
   "id": "cd36c36f",
   "metadata": {},
   "source": [
    "Q10. Why does this expression cause an error? How can you fix it?\n",
    "'I have eaten ' + 99 + ' burritos.'"
   ]
  },
  {
   "cell_type": "code",
   "execution_count": 18,
   "id": "02b0f777",
   "metadata": {},
   "outputs": [
    {
     "data": {
      "text/plain": [
       "'I have eaten 99 burritos.'"
      ]
     },
     "execution_count": 18,
     "metadata": {},
     "output_type": "execute_result"
    }
   ],
   "source": [
    "#Assign 99 as a string\n",
    "Sol2 = 'I have eaten '+'99'+' burritos.'\n",
    "Sol2"
   ]
  },
  {
   "cell_type": "code",
   "execution_count": 19,
   "id": "67d6c776",
   "metadata": {},
   "outputs": [
    {
     "data": {
      "text/plain": [
       "\"'I have eaten '+99+' burritos.'\""
      ]
     },
     "execution_count": 19,
     "metadata": {},
     "output_type": "execute_result"
    }
   ],
   "source": [
    "#Multiple quotations hence confusion in reading End lines [can only concatenate str (not \"int\") to str]. Can be rectified by making using of triple Quotations\n",
    "Sol1 = \"\"\"'I have eaten '+99+' burritos.'\"\"\"\n",
    "Sol1"
   ]
  },
  {
   "cell_type": "code",
   "execution_count": null,
   "id": "a6ee613f",
   "metadata": {},
   "outputs": [],
   "source": []
  }
 ],
 "metadata": {
  "kernelspec": {
   "display_name": "Python 3 (ipykernel)",
   "language": "python",
   "name": "python3"
  },
  "language_info": {
   "codemirror_mode": {
    "name": "ipython",
    "version": 3
   },
   "file_extension": ".py",
   "mimetype": "text/x-python",
   "name": "python",
   "nbconvert_exporter": "python",
   "pygments_lexer": "ipython3",
   "version": "3.9.12"
  }
 },
 "nbformat": 4,
 "nbformat_minor": 5
}
